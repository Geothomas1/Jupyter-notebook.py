{
 "cells": [
  {
   "cell_type": "markdown",
   "metadata": {
    "id": "e8o8zEwD9_GI"
   },
   "source": [
    "Python allows us to connect to various databases through database\n",
    "interfaces. Python’s database interface is DB-API (Data Base–Application\n",
    "Programming Interface). We can choose the database which we want to connect\n",
    "to Python. Python DB-API supports a large number of databases like Oracle, MS-SQL server 2000, MySQL, mSQL, Sybase etc. For using each database we\n",
    "need to download separate DB-API modules."
   ]
  },
  {
   "cell_type": "code",
   "execution_count": 1,
   "metadata": {
    "id": "B0xWdJ76900d"
   },
   "outputs": [],
   "source": [
    "#DB Connection\n",
    "\n",
    "#Install Mysql Connector for Python\n",
    "#python -m pip install mysql-connector-python \n",
    "\n",
    "#Import Mysql Connector\n",
    "import mysql.connector"
   ]
  },
  {
   "cell_type": "code",
   "execution_count": 2,
   "metadata": {
    "id": "ymVsqcnL900g"
   },
   "outputs": [],
   "source": [
    "#Database Connectivity\n",
    "mydb = mysql.connector.connect(\n",
    "  host=\"localhost\",\n",
    "  user=\"root\",\n",
    "  password=\"password\",\n",
    "    \n",
    "# If you've already created a database then mention the database here. Otherwise create a new database.\n",
    "  database=\"pythonMysql\"\n",
    ")"
   ]
  },
  {
   "cell_type": "markdown",
   "metadata": {
    "id": "yn_JTJCD_vO7"
   },
   "source": [
    "Before connecting to a database, following things should be done to assure the right\n",
    "connectivity. \n",
    "\n",
    "1. Create a database called SAMPLE in MySQL. \n",
    "\n",
    "2. The user-id and password used to access SAMPLE database is “user” &”pass” respectively."
   ]
  },
  {
   "cell_type": "markdown",
   "metadata": {
    "id": "s9wjNy6NASWO"
   },
   "source": [
    "A cursor in SQL is a temporary work area created in system memory when a SQL statement is executed. A SQL cursor is a set of rows together with a pointer that identifies a current row. We use cursors to execute queries from python."
   ]
  },
  {
   "cell_type": "code",
   "execution_count": 13,
   "metadata": {
    "id": "AuUal0si900j"
   },
   "outputs": [],
   "source": [
    "# The MySQLCursor of mysql-connector-python (and similar libraries) is used to execute statements to communicate with the MySQL database.\n",
    "mycursor = mydb.cursor()"
   ]
  },
  {
   "cell_type": "markdown",
   "metadata": {
    "id": "1r40zSLXA1Nd"
   },
   "source": [
    "Creating DB"
   ]
  },
  {
   "cell_type": "code",
   "execution_count": null,
   "metadata": {
    "id": "RuSdFdmK900l"
   },
   "outputs": [],
   "source": [
    "# Code for creating a new database\n",
    "mycursor.execute(\"CREATE DATABASE pythonMysql\")"
   ]
  },
  {
   "cell_type": "markdown",
   "metadata": {
    "id": "_ot9cSQRA59x"
   },
   "source": [
    "Creating Table"
   ]
  },
  {
   "cell_type": "code",
   "execution_count": 15,
   "metadata": {
    "id": "6BUVU7iY900n"
   },
   "outputs": [],
   "source": [
    "mycursor.execute(\"CREATE TABLE students (name VARCHAR(255), email VARCHAR(255), phone INT(10))\")"
   ]
  },
  {
   "cell_type": "markdown",
   "metadata": {
    "id": "REF6hRDDA80g"
   },
   "source": [
    "Display tables"
   ]
  },
  {
   "cell_type": "code",
   "execution_count": 16,
   "metadata": {
    "id": "lQlpfYOU900q",
    "outputId": "63375d79-c052-4e64-c735-3c0b603b0c9f"
   },
   "outputs": [
    {
     "name": "stdout",
     "output_type": "stream",
     "text": [
      "('students',)\n"
     ]
    }
   ],
   "source": [
    "mycursor.execute(\"show tables\")\n",
    "for x in mycursor:\n",
    "  print(x) "
   ]
  },
  {
   "cell_type": "markdown",
   "metadata": {
    "id": "k2mx0FvZBAqf"
   },
   "source": [
    "Alter Table"
   ]
  },
  {
   "cell_type": "code",
   "execution_count": 17,
   "metadata": {
    "id": "O-gDVtQN900t"
   },
   "outputs": [],
   "source": [
    "mycursor.execute('alter table students add column id int AUTO_INCREMENT primary key')"
   ]
  },
  {
   "cell_type": "markdown",
   "metadata": {
    "id": "_wjm4c8qBDze"
   },
   "source": [
    "Insert into Table"
   ]
  },
  {
   "cell_type": "code",
   "execution_count": 18,
   "metadata": {
    "id": "6mnMy43I900v"
   },
   "outputs": [],
   "source": [
    "sql = 'insert into students (name,email,phone) values(%s, %s, %s)'\n",
    "values = ('bnbn', 'bbnbn@gmail.com', 765323424)"
   ]
  },
  {
   "cell_type": "markdown",
   "metadata": {
    "id": "yYBCjlKUBRcc"
   },
   "source": [
    "Commit is the operation, which gives a green signal to database to finalize the changes, and after this operation, no change can be reverted back."
   ]
  },
  {
   "cell_type": "code",
   "execution_count": 19,
   "metadata": {
    "id": "_5TLp2xw900y"
   },
   "outputs": [
    {
     "data": {
      "text/plain": [
       "True"
      ]
     },
     "execution_count": 19,
     "metadata": {},
     "output_type": "execute_result"
    }
   ],
   "source": [
    "mycursor.execute(sql, values)\n",
    "mydb.commit()\n",
    "mycursor.close()"
   ]
  },
  {
   "cell_type": "code",
   "execution_count": null,
   "metadata": {},
   "outputs": [],
   "source": []
  },
  {
   "cell_type": "markdown",
   "metadata": {
    "id": "h6H85jWLBwB2"
   },
   "source": [
    "Insert Many rows"
   ]
  },
  {
   "cell_type": "code",
   "execution_count": 20,
   "metadata": {
    "id": "kPb6qBcI900z"
   },
   "outputs": [],
   "source": [
    "mycursor = mydb.cursor()\n",
    "sql = 'insert into students (name,email,phone) values(%s, %s, %s)'\n",
    "values = [('bnbn', 'bbnbn@gmail.com', 765323424),('fjghjghj', 'ssrcvbcvbr@gmail.com', 1465323424),('sasdad', 'asdad@gmail.com', 6465323424)]"
   ]
  },
  {
   "cell_type": "code",
   "execution_count": 21,
   "metadata": {
    "id": "W9GkVEqm9001"
   },
   "outputs": [],
   "source": [
    "mycursor.executemany(sql, values)\n"
   ]
  },
  {
   "cell_type": "code",
   "execution_count": 22,
   "metadata": {
    "id": "NF6-9UjM9004"
   },
   "outputs": [
    {
     "data": {
      "text/plain": [
       "True"
      ]
     },
     "execution_count": 22,
     "metadata": {},
     "output_type": "execute_result"
    }
   ],
   "source": [
    "mydb.commit()\n",
    "mycursor.close()"
   ]
  },
  {
   "cell_type": "markdown",
   "metadata": {
    "id": "5aROJOPNB1HT"
   },
   "source": [
    "Display"
   ]
  },
  {
   "cell_type": "code",
   "execution_count": 5,
   "metadata": {
    "id": "nm2208J59007"
   },
   "outputs": [],
   "source": [
    "mycursor = mydb.cursor()\n",
    "mycursor.execute(\"SELECT * FROM students\")"
   ]
  },
  {
   "cell_type": "code",
   "execution_count": 6,
   "metadata": {
    "id": "1zwFRAt89009"
   },
   "outputs": [],
   "source": [
    "# fetchall() method fetches all (or all remaining) rows of a query result set and returns a list of tuples. \n",
    "#If no more rows are available, it returns an empty list\n",
    "myresult = mycursor.fetchall()"
   ]
  },
  {
   "cell_type": "code",
   "execution_count": 7,
   "metadata": {
    "id": "nAtmixVz901A",
    "outputId": "48cf46fd-20c6-4c49-8df3-1069c38e3faf"
   },
   "outputs": [
    {
     "name": "stdout",
     "output_type": "stream",
     "text": [
      "('bnbn', 'bbnbn@gmail.com', 765323424, 1)\n",
      "('bnbn', 'bbnbn@gmail.com', 765323424, 2)\n",
      "('fjghjghj', 'ssrcvbcvbr@gmail.com', 1465323424, 3)\n",
      "('sasdad', 'asdad@gmail.com', 2147483647, 4)\n"
     ]
    }
   ],
   "source": [
    "for x in myresult:\n",
    "  print(x)"
   ]
  },
  {
   "cell_type": "code",
   "execution_count": 26,
   "metadata": {
    "id": "nVWBrIYy901C"
   },
   "outputs": [
    {
     "name": "stdout",
     "output_type": "stream",
     "text": [
      "('bnbn', 'bbnbn@gmail.com', 765323424, 1)\n"
     ]
    }
   ],
   "source": [
    "# The fetchone() method will return the first row of the result\n",
    "mycursor.execute(\"SELECT * FROM students\")\n",
    "myresult = mycursor.fetchone()\n",
    "print(myresult)"
   ]
  },
  {
   "cell_type": "code",
   "execution_count": 77,
   "metadata": {},
   "outputs": [
    {
     "name": "stdout",
     "output_type": "stream",
     "text": [
      "('bnbn', 'bbnbn@gmail.com', 765323424, 1)\n"
     ]
    }
   ],
   "source": [
    "mycursor.execute(\"SELECT * FROM students\")\n",
    "myresult = mycursor.fetchone()\n",
    "print(myresult)"
   ]
  },
  {
   "cell_type": "code",
   "execution_count": 32,
   "metadata": {
    "id": "fCZuFP9n901E",
    "outputId": "0ac5514d-1bf6-41e5-f067-b8ef267de515"
   },
   "outputs": [
    {
     "name": "stdout",
     "output_type": "stream",
     "text": [
      "('sasdad', 'asdad@gmail.com', 2147483647, 4)\n"
     ]
    }
   ],
   "source": [
    "#Using where condition\n",
    "sql = \"SELECT * FROM students WHERE email ='asdad@gmail.com'\"\n",
    "mycursor.execute(sql)\n",
    "myresult = mycursor.fetchall()\n",
    "\n",
    "for x in myresult:\n",
    "  print(x)"
   ]
  },
  {
   "cell_type": "code",
   "execution_count": 4,
   "metadata": {
    "id": "ZE0I5ETQ901G"
   },
   "outputs": [
    {
     "name": "stdout",
     "output_type": "stream",
     "text": [
      "('sasdad', 'asdad@gmail.com', 2147483647, 4)\n"
     ]
    }
   ],
   "source": [
    "sql = \"SELECT * FROM students WHERE email = %s\"\n",
    "email = (\"asdad@gmail.com\", )\n",
    "\n",
    "mycursor.execute(sql, email)\n",
    "\n",
    "myresult = mycursor.fetchall()\n",
    "\n",
    "for x in myresult:\n",
    "  print(x) "
   ]
  },
  {
   "cell_type": "markdown",
   "metadata": {
    "id": "BI0cdvbNCgbn"
   },
   "source": [
    "Delete Operation"
   ]
  },
  {
   "cell_type": "code",
   "execution_count": 10,
   "metadata": {
    "id": "O0_8XcDs901K"
   },
   "outputs": [
    {
     "name": "stdout",
     "output_type": "stream",
     "text": [
      "1 record(s) deleted\n"
     ]
    }
   ],
   "source": [
    "#DELETE OPERATION \n",
    "sql = \"DELETE FROM students WHERE email = %s\"\n",
    "email = (\"ssrcvbcvbr@gmail.com\", )\n",
    "mycursor.execute(sql, email)\n",
    "\n",
    "mydb.commit()\n",
    "\n",
    "print(mycursor.rowcount, \"record(s) deleted\")"
   ]
  },
  {
   "cell_type": "markdown",
   "metadata": {
    "id": "quf8z5l-CuPe"
   },
   "source": [
    "Update Operation"
   ]
  },
  {
   "cell_type": "code",
   "execution_count": 15,
   "metadata": {
    "id": "q_pdIvUQ901N"
   },
   "outputs": [
    {
     "name": "stdout",
     "output_type": "stream",
     "text": [
      "2 record(s) affected\n"
     ]
    }
   ],
   "source": [
    "#UPDATE OPERATION\n",
    "sql = \"UPDATE students SET email =%s WHERE email =%s\"\n",
    "value = (\"neethu@gmail.com\",\"bbnbn@gmail.com\")\n",
    "\n",
    "mycursor.execute(sql,value)\n",
    "\n",
    "mydb.commit()\n",
    "\n",
    "print(mycursor.rowcount, \"record(s) affected\")"
   ]
  },
  {
   "cell_type": "markdown",
   "metadata": {
    "id": "sdnV7gWrC17Y"
   },
   "source": [
    "Deleting a Table"
   ]
  },
  {
   "cell_type": "code",
   "execution_count": 16,
   "metadata": {
    "id": "GqG1XRcK901R"
   },
   "outputs": [],
   "source": [
    "#DELETE TABLE\n",
    "sql = \"DROP TABLE students\"\n",
    "\n",
    "mycursor.execute(sql)"
   ]
  },
  {
   "cell_type": "code",
   "execution_count": 17,
   "metadata": {
    "id": "ngbqEZno901T"
   },
   "outputs": [
    {
     "data": {
      "text/plain": [
       "True"
      ]
     },
     "execution_count": 17,
     "metadata": {},
     "output_type": "execute_result"
    }
   ],
   "source": [
    "mycursor.close()"
   ]
  },
  {
   "cell_type": "markdown",
   "metadata": {
    "id": "cZCB6bLdC4_2"
   },
   "source": [
    "Closing the connection"
   ]
  },
  {
   "cell_type": "code",
   "execution_count": null,
   "metadata": {
    "id": "OhMo1qcz901V"
   },
   "outputs": [],
   "source": [
    "mydb.close()\n"
   ]
  },
  {
   "cell_type": "code",
   "execution_count": null,
   "metadata": {},
   "outputs": [],
   "source": []
  },
  {
   "cell_type": "markdown",
   "metadata": {},
   "source": [
    "How to connect to MySQL from Python"
   ]
  },
  {
   "cell_type": "code",
   "execution_count": null,
   "metadata": {},
   "outputs": [],
   "source": [
    "Create a table Student with fields student id as number, student name as character student email id as character and \n",
    "phone number as integer.\n",
    "i) Insert 3 Data’s to the table Student\n",
    "ii) Update the record of the table Student, set data field student email id to abc@mca.org where student id is 101\n",
    "iii) Delete record from the table Student where student id is 102\n",
    "iv) Display all records from the table Student\n",
    "v) Display or fetch one record at a time from the database.\n",
    "\n",
    "\n",
    "or\n",
    "\n",
    "\n",
    "Write a complete Program in python to do all operation on a database table and explain with an example.\n"
   ]
  },
  {
   "cell_type": "code",
   "execution_count": null,
   "metadata": {},
   "outputs": [],
   "source": [
    "import mysql.connector"
   ]
  },
  {
   "cell_type": "code",
   "execution_count": null,
   "metadata": {},
   "outputs": [],
   "source": [
    "mydb = mysql.connector.connect(\n",
    "  host=\"localhost\",\n",
    "  user=\"root\",\n",
    "  password=\"password\",\n",
    "    \n",
    "# If you've already created a database then mention the database here. Otherwise create a new database.\n",
    "  database=\"Student\"\n",
    ")"
   ]
  },
  {
   "cell_type": "code",
   "execution_count": null,
   "metadata": {},
   "outputs": [],
   "source": [
    "mycursor = mydb.cursor()\n",
    "mycursor.execute(\"CREATE DATABASE Student\")"
   ]
  },
  {
   "cell_type": "code",
   "execution_count": null,
   "metadata": {},
   "outputs": [],
   "source": [
    "mycursor = mydb.cursor()\n",
    "mycursor.execute(\"CREATE TABLE students(id INT(10) primary key not null,name VARCHAR(255), email VARCHAR(255), phone INT(10))\")"
   ]
  },
  {
   "cell_type": "code",
   "execution_count": null,
   "metadata": {},
   "outputs": [],
   "source": [
    "mycursor.execute(\"show tables\")\n",
    "for x in mycursor:\n",
    "  print(x) "
   ]
  },
  {
   "cell_type": "code",
   "execution_count": null,
   "metadata": {},
   "outputs": [],
   "source": [
    "mycursor = mydb.cursor()\n",
    "sql = 'insert into students (id,name,email,phone) values(%s,%s, %s, %s)'\n",
    "values = [(101,'Neethu', 'neethu@gmail.com', 765323424),(102,'Rahul', 'rahul@gmail.com', 1465323424),(103,'Pinky', 'pinky@gmail.com', 6465323424)]\n",
    "mycursor.executemany(sql, values)\n",
    "mydb.commit()\n",
    "mycursor.close()"
   ]
  },
  {
   "cell_type": "code",
   "execution_count": null,
   "metadata": {},
   "outputs": [],
   "source": [
    "mycursor = mydb.cursor()\n",
    "sql = \"UPDATE students SET email =%s WHERE id =%s\"\n",
    "value = (\"abc@mca.org\",101)\n",
    "\n",
    "mycursor.execute(sql,value)\n",
    "\n",
    "mydb.commit()\n",
    "\n",
    "print(mycursor.rowcount, \"record(s) affected\")"
   ]
  },
  {
   "cell_type": "code",
   "execution_count": null,
   "metadata": {},
   "outputs": [],
   "source": [
    "mycursor = mydb.cursor()\n",
    "sql = \"DELETE FROM students WHERE id = %s\"\n",
    "id = (102, )\n",
    "mycursor.execute(sql, id)\n",
    "\n",
    "mydb.commit()\n",
    "\n",
    "print(mycursor.rowcount, \"record(s) deleted\")"
   ]
  },
  {
   "cell_type": "code",
   "execution_count": null,
   "metadata": {},
   "outputs": [],
   "source": [
    "mycursor = mydb.cursor()\n",
    "mycursor.execute(\"SELECT * FROM students\")\n",
    "myresult = mycursor.fetchall()\n",
    "for x in myresult:\n",
    "  print(x)\n",
    "mycursor.close()\n"
   ]
  },
  {
   "cell_type": "code",
   "execution_count": null,
   "metadata": {},
   "outputs": [],
   "source": [
    "mycursor = mydb.cursor()\n",
    "mycursor.execute(\"SELECT * FROM students\")\n",
    "myresult = mycursor.fetchone()\n",
    "print(myresult)"
   ]
  },
  {
   "cell_type": "code",
   "execution_count": null,
   "metadata": {},
   "outputs": [],
   "source": [
    "mycursor.close()"
   ]
  }
 ],
 "metadata": {
  "colab": {
   "name": "pythonMysql.ipynb",
   "provenance": []
  },
  "kernelspec": {
   "display_name": "Python 3",
   "language": "python",
   "name": "python3"
  },
  "language_info": {
   "codemirror_mode": {
    "name": "ipython",
    "version": 3
   },
   "file_extension": ".py",
   "mimetype": "text/x-python",
   "name": "python",
   "nbconvert_exporter": "python",
   "pygments_lexer": "ipython3",
   "version": "3.8.3"
  }
 },
 "nbformat": 4,
 "nbformat_minor": 1
}
