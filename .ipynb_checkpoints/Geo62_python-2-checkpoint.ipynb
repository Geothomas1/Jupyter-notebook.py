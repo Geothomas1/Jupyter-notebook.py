{
 "cells": [
  {
   "cell_type": "code",
   "execution_count": 5,
   "metadata": {},
   "outputs": [
    {
     "name": "stdout",
     "output_type": "stream",
     "text": [
      "Enter Length and Breadth of Rectangle\n",
      "2\n",
      "2\n",
      "Enter height and breadth of triangle\n",
      "2\n",
      "2\n",
      "Enter side of square\n",
      "2\n",
      "Area of Rectanle= 4\n",
      "Area of Trianlge= 2.0\n",
      "Area of Square= 4\n"
     ]
    }
   ],
   "source": [
    "# 1) Write lambda functions to find area of square, rectangle and triangle\n",
    "\n",
    "triArea=lambda a,b:0.5*a*b\n",
    "recArea=lambda a,b:a*b\n",
    "squareArea=lambda a:a*a\n",
    "print(\"Enter Length and Breadth of Rectangle\")\n",
    "l=int(input())\n",
    "b=int(input())\n",
    "print(\"Enter height and breadth of triangle\")\n",
    "h=int(input())\n",
    "b1=int(input())\n",
    "print(\"Enter side of square\")\n",
    "s=int(input())\n",
    "print(\"Area of Rectanle=\",recArea(l,b))\n",
    "print(\"Area of Trianlge=\",triArea(h,b1))\n",
    "print(\"Area of Square=\",squareArea(s))"
   ]
  },
  {
   "cell_type": "code",
   "execution_count": 2,
   "metadata": {},
   "outputs": [
    {
     "name": "stdout",
     "output_type": "stream",
     "text": [
      "Enter the String :Kerala\n",
      "character frequency:\n",
      " {'K': 1, 'e': 1, 'r': 1, 'a': 2, 'l': 1}\n"
     ]
    }
   ],
   "source": [
    "# 2) Count the number of characters (character frequency) in a string. \n",
    "\n",
    "string=input(\"Enter the String :\")\n",
    "\n",
    "freq = {} \n",
    "  \n",
    "for i in string: \n",
    "    if i in freq: \n",
    "        freq[i] += 1\n",
    "    else: \n",
    "        freq[i] = 1\n",
    "print (\"character frequency:\\n \"+  str(freq)) "
   ]
  },
  {
   "cell_type": "code",
   "execution_count": 3,
   "metadata": {},
   "outputs": [
    {
     "name": "stdout",
     "output_type": "stream",
     "text": [
      "Enter the String :Run\n",
      "New String: Runing\n"
     ]
    }
   ],
   "source": [
    "# 3) Add ‘ing’ at the end of a given string. If it already ends with ‘ing’, then add ‘ly’\n",
    "\n",
    "string=input(\"Enter the String :\")\n",
    "if string.endswith('ing'):\n",
    "    str1=string+'ly'\n",
    "else:\n",
    "    str1=string+'ing'\n",
    "print(\"New String:\",str1)\n"
   ]
  },
  {
   "cell_type": "code",
   "execution_count": 7,
   "metadata": {},
   "outputs": [
    {
     "name": "stdout",
     "output_type": "stream",
     "text": [
      "Enter Word :my home\n",
      "Longest String is: home Length: 4\n"
     ]
    }
   ],
   "source": [
    "# 4) Accept a list of words and return length of longest word.\n",
    "\n",
    "\n",
    "word=input(\"Enter Word :\").split()\n",
    "li={}\n",
    "for i in word:\n",
    "    li[i]=len(i)\n",
    "    v=list(li.values())\n",
    "    k=list(li.keys())\n",
    "print(\"Longest String is:\",k[v.index(max(v))],\"Length:\",max(v))"
   ]
  }
 ],
 "metadata": {
  "kernelspec": {
   "display_name": "Python 3",
   "language": "python",
   "name": "python3"
  },
  "language_info": {
   "codemirror_mode": {
    "name": "ipython",
    "version": 3
   },
   "file_extension": ".py",
   "mimetype": "text/x-python",
   "name": "python",
   "nbconvert_exporter": "python",
   "pygments_lexer": "ipython3",
   "version": "3.8.5"
  }
 },
 "nbformat": 4,
 "nbformat_minor": 4
}
