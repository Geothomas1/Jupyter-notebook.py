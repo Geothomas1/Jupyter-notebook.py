{
 "cells": [
  {
   "cell_type": "markdown",
   "metadata": {
    "id": "bI7ODM5mjSGq"
   },
   "source": [
    "<img src=\"https://www.python.org/static/community_logos/python-logo-master-v3-TM.png\" title=\"Python Logo\"/>"
   ]
  },
  {
   "cell_type": "markdown",
   "metadata": {
    "id": "VekxxS9WjSGr"
   },
   "source": [
    "# Regular Expression Modifiers and Regular Expression Patterns\n",
    "***"
   ]
  },
  {
   "cell_type": "markdown",
   "metadata": {
    "id": "fiYemZ-DjSGs"
   },
   "source": [
    "## Introduction to Regular Expressions\n",
    "- A regular expression is a pattern describing a certain amount of text and usually find the name abbreviated to \"regex\" or \"regexp\". \n",
    "- A RegEx, or Regular Expression, is a sequence of characters that forms a search pattern.\n",
    "- Regular expressions are extremely useful in extracting information from text such as code, log files, spreadsheets, or even documents.\n",
    "- RegEx can be used to check if a string contains the specified search pattern.\n",
    "- Python has a built-in package called **re**, which can be used to work with Regular Expressions.\n"
   ]
  },
  {
   "cell_type": "code",
   "execution_count": 1,
   "metadata": {
    "id": "Khk1edVTjSGt"
   },
   "outputs": [],
   "source": [
    "import re"
   ]
  },
  {
   "cell_type": "markdown",
   "metadata": {
    "id": "gNZBPL2eltTi"
   },
   "source": [
    "## Match function in RegEx\n",
    "A “match” is the piece of text, or sequence of bytes or characters that pattern was found to correspond to by the regex processing software. The match() method searches a string for a match against a regular expression, and returns the matches, as an Array object.\n",
    "\n",
    "\n",
    "In python the match is check using the following method:\n"
   ]
  },
  {
   "cell_type": "code",
   "execution_count": 2,
   "metadata": {
    "colab": {
     "base_uri": "https://localhost:8080/"
    },
    "id": "RPqOiK8Vvb_K",
    "outputId": "f0d48730-4b20-483d-d111-7f60af8cd63b"
   },
   "outputs": [
    {
     "name": "stdout",
     "output_type": "stream",
     "text": [
      "[]\n",
      "No match\n"
     ]
    }
   ],
   "source": [
    "txt = \"The rain in Spain\"\n",
    "\n",
    "#Check if \"Portugal\" is in the string:\n",
    "\n",
    "x = re.findall(\"Portugal\", txt)\n",
    "print(x)\n",
    "\n",
    "if (x):\n",
    "  print(\"Yes, there is at least one match!\")\n",
    "else:\n",
    "  print(\"No match\")"
   ]
  },
  {
   "cell_type": "markdown",
   "metadata": {
    "id": "hvEUuxHLwKRE"
   },
   "source": [
    "Also it is very easy to print all the matched text. See the example below:"
   ]
  },
  {
   "cell_type": "code",
   "execution_count": null,
   "metadata": {
    "colab": {
     "base_uri": "https://localhost:8080/"
    },
    "id": "LdHms5gkwQzS",
    "outputId": "4ce71575-80d4-4155-bb00-3b49b6d9b813"
   },
   "outputs": [
    {
     "name": "stdout",
     "output_type": "stream",
     "text": [
      "ai\n",
      "ai\n"
     ]
    }
   ],
   "source": [
    "txt = \"The rain in Spain\"\n",
    "x = re.findall(\"ai\", txt)\n",
    "for item in x:\n",
    "\tprint(item)"
   ]
  },
  {
   "cell_type": "markdown",
   "metadata": {
    "id": "u7yHddkUsjJC"
   },
   "source": [
    "##Search function with RegEx\n",
    "The search() method uses an expression to search for a match, and returns the position of the match."
   ]
  },
  {
   "cell_type": "code",
   "execution_count": null,
   "metadata": {
    "colab": {
     "base_uri": "https://localhost:8080/"
    },
    "id": "4y05wZhruFZU",
    "outputId": "0bc9d583-6e9c-4581-8c37-d711dfdb07cf"
   },
   "outputs": [
    {
     "name": "stdout",
     "output_type": "stream",
     "text": [
      "The first white-space character is located in position: 3\n"
     ]
    }
   ],
   "source": [
    "txt = \"The rain in Spain\"\n",
    "x = re.search(\"\\s\", txt)\n",
    "\n",
    "print(\"The first white-space character is located in position:\", x.start())"
   ]
  },
  {
   "cell_type": "code",
   "execution_count": null,
   "metadata": {
    "id": "qut-LUP5uHxC"
   },
   "outputs": [],
   "source": [
    "txt = \"The rain in Spain\"\n",
    "x = re.search(\"Portugal\", txt)\n",
    "print(x)"
   ]
  },
  {
   "cell_type": "markdown",
   "metadata": {
    "id": "UKsJ98I_uZh5"
   },
   "source": [
    "## Search and Replace with RegEx\n",
    "\n",
    "The sub() function replaces the matches with the text of your choice:"
   ]
  },
  {
   "cell_type": "code",
   "execution_count": null,
   "metadata": {
    "id": "vwxjHh8GulBZ"
   },
   "outputs": [],
   "source": [
    "txt = \"The rain in Spain\"\n",
    "x = re.sub(\"\\s\", \"9\", txt)\n",
    "print(x)"
   ]
  },
  {
   "cell_type": "markdown",
   "metadata": {
    "id": "_FAwIYmVutpp"
   },
   "source": [
    "You can control the number of replacements by specifying the count parameter:"
   ]
  },
  {
   "cell_type": "code",
   "execution_count": null,
   "metadata": {
    "id": "CXDuelv_uusR"
   },
   "outputs": [],
   "source": [
    "txt = \"The rain in Spain\"\n",
    "x = re.sub(\"\\s\", \"9\", txt, 2)\n",
    "print(x)"
   ]
  },
  {
   "cell_type": "markdown",
   "metadata": {
    "id": "U3vQKP6mjSGw"
   },
   "source": [
    "## Metacharacters and Sequences\n",
    "\n",
    "`.      - Any Character Except New Line`<br>\n",
    "`\\d     - Digit (0-9)`<br>\n",
    "`\\D     - Not a Digit (0-9)`<br>\n",
    "`\\w     - Word Character (a-z, A-Z, 0-9, _)`<br>\n",
    "`\\W     - Not a Word Character`<br>\n",
    "`\\s     - Whitespace (space, tab, newline)`<br>\n",
    "`\\S     - Not Whitespace (space, tab, newline)`<br>\n",
    "\n",
    "`\\b     - Word Boundary`<br>\n",
    "`\\B     - Not a Word Boundary`<br>\n",
    "`^      - Beginning of a String`<br>\n",
    "`$      - End of a String`<br>\n",
    "\n",
    "`[]     - Matches Characters in brackets`<br>\n",
    "`[^ ]   - Matches Characters NOT in brackets`<br>\n",
    "`|      - Either Or`<br>\n",
    "`( )    - Group`<br>\n",
    "\n",
    "`re*        - Matches 0 or more occurrences of preceding expression`<br>\n",
    "`re+        - Matches 1 or more occurrence of preceding expression`<br>\n",
    "`re?        - Matches 0 or 1 occurrence of preceding expression`<br>\n",
    "`re{ n}     - Matches exactly n number of occurrences of preceding expression`<br>\n",
    "`re{ n,}    - Matches n or more occurrences of preceding expression`<br>\n",
    "`re{ n, m}  - Matches at least n and at most m occurrences of preceding expression`<br>\n",
    "`a| b       - Matches either a or b`<br>\n",
    "`re         -Groups regular expressions and remembers matched text`<br>\n",
    "`?imx        - Temporarily toggles on i, m, or x options within a regular expression`<br>\n",
    "`? − imx     - Temporarily toggles off i, m, or x options within a regular expression`<br>               \n",
    "`?:re        - Groups regular expressions without remembering matched text `<br>\n",
    "`?imx:re     - Temporarily toggles on i, m, or x options within parentheses `<br>\n",
    "`? − imx:re  - Temporarily toggles off i, m, or x options within parentheses `<br>\n",
    "`?#...       - Comment.`<br>\n",
    "`? = re      - Specifies position using a pattern. Doesn't have a range`<br>\n",
    "`? !re       - Specifies position using pattern negation. Doesn't have a range`<br>\n",
    "\n",
    "`Quantifiers:`<br>\n",
    "`*      - 0 or More`<br>\n",
    "`+      - 1 or More`<br>\n",
    "`?      - 0 or One`<br>\n",
    "`{3}    - Exact Number`<br>\n",
    "`{3,4}  - Range of Numbers (Minimum, Maximum)`<br>\n",
    "\n",
    "#### Sample RegExps ####\n",
    "\n",
    "[a-zA-Z0-9_.+-]+@[a-zA-Z0-9-]+\\.[a-zA-Z0-9-.]+"
   ]
  },
  {
   "cell_type": "markdown",
   "metadata": {
    "id": "Gj3YG1ZwjSGx"
   },
   "source": [
    "## Regular Expression Modifiers\n",
    "- Regular expression literals may include an optional modifier to control various aspects of matching. \n",
    "- The modifiers are specified as an optional flag. You can provide multiple modifiers using exclusive OR `|`\n",
    "\n",
    "\n"
   ]
  },
  {
   "cell_type": "markdown",
   "metadata": {
    "id": "WCpVPLn2jSGy"
   },
   "source": [
    "### 1. re.A or re.ASCII"
   ]
  },
  {
   "cell_type": "markdown",
   "metadata": {
    "id": "d1oZfvppjSGy"
   },
   "source": [
    "Make \\w, \\W, \\b, \\B, \\d, \\D, \\s and \\S perform ASCII-only matching instead of full Unicode matching. This is only meaningful for Unicode patterns, and is ignored for byte patterns. Corresponds to the inline flag (?a).\n",
    "\n",
    "Note that for backward compatibility, the re.U flag still exists (as well as its synonym re.UNICODE and its embedded counterpart (?u)), but these are redundant in Python 3 since matches are Unicode by default for strings (and Unicode matching isn’t allowed for bytes)."
   ]
  },
  {
   "cell_type": "markdown",
   "metadata": {
    "id": "3m2-pp8ZjSGz"
   },
   "source": [
    "### 2. re.l or re.IGNORECASE\n",
    "-"
   ]
  },
  {
   "cell_type": "code",
   "execution_count": null,
   "metadata": {
    "id": "v4tWiydPjSGz",
    "outputId": "b2a548fb-0c55-4e98-bdca-50654280008c"
   },
   "outputs": [
    {
     "name": "stdout",
     "output_type": "stream",
     "text": [
      "Match Unsuccessfull\n"
     ]
    }
   ],
   "source": [
    "email = \"user@company.com\"\n",
    "\n",
    "m = re.search(\"User\", email)\n",
    "if m:\n",
    "    print(\"Match Succcessfull\")\n",
    "else:\n",
    "    print(\"Match Unsuccessfull\")"
   ]
  },
  {
   "cell_type": "markdown",
   "metadata": {
    "id": "AB89u0bIjSG3"
   },
   "source": [
    "The above written code snippet is for matching a specified string in the variable email. But the drawback of such method is we have to give the value as same as specified in the variable. As shown in the code, `User` is not specified in `user@company.com`."
   ]
  },
  {
   "cell_type": "code",
   "execution_count": null,
   "metadata": {
    "id": "bi-QxQKFjSG4",
    "outputId": "efefa638-4949-4310-fd5e-892fa3de5cf5"
   },
   "outputs": [
    {
     "name": "stdout",
     "output_type": "stream",
     "text": [
      "Match Succcessfull\n"
     ]
    }
   ],
   "source": [
    "email = \"user@company.com\"\n",
    "\n",
    "m = re.search(\"User\", email, re.IGNORECASE)#re.I can also be used\n",
    "if m:\n",
    "    print(\"Match Succcessfull\")\n",
    "else:\n",
    "    print(\"Match Unsuccessfull\")"
   ]
  },
  {
   "cell_type": "markdown",
   "metadata": {
    "id": "W3JMB9OmjSG7"
   },
   "source": [
    "Perform `case-insensitive matching`; expressions like `[A-Z]` will also match `lowercase letters`. Full Unicode matching (such as Ü matching ü) also works unless the re.ASCII flag is used to disable non-ASCII matches. The current locale does not change the effect of this flag unless the re.LOCALE flag is also used. Corresponds to the inline flag (?i).\n",
    "\n",
    "Note that when the Unicode patterns `a-z]` or `[A-Z]` are used in combination with the IGNORECASE flag, they will match the 52 ASCII letters and 4 additional non-ASCII letters: ‘İ’ (U+0130, Latin capital letter I with dot above), ‘ı’ (U+0131, Latin small letter dotless i), ‘ſ’ (U+017F, Latin small letter long s) and ‘K’ (U+212A, Kelvin sign). If the ASCII flag is used, only letters ‘a’ to ‘z’ and ‘A’ to ‘Z’ are matched."
   ]
  },
  {
   "cell_type": "markdown",
   "metadata": {
    "id": "tzOJCbGMjSG8"
   },
   "source": [
    "### 3. re.L or re.LOCALE"
   ]
  },
  {
   "cell_type": "markdown",
   "metadata": {
    "id": "0Z8kYJFMjSG8"
   },
   "source": [
    "Make \\w, \\W, \\b, \\B and case-insensitive matching dependent on the current locale. This flag can be used only with bytes patterns. The use of this flag is discouraged as the locale mechanism is very unreliable, it only handles one “culture” at a time, and it only works with 8-bit locales. Unicode matching is already enabled by default in Python 3 for Unicode (str) patterns, and it is able to handle different locales/languages. Corresponds to the inline flag (?L)."
   ]
  },
  {
   "cell_type": "markdown",
   "metadata": {
    "id": "W9H0jizTjSG9"
   },
   "source": [
    "### 4. re.S or re.DOTALL"
   ]
  },
  {
   "cell_type": "code",
   "execution_count": null,
   "metadata": {
    "colab": {
     "base_uri": "https://localhost:8080/"
    },
    "id": "L0Zh19HWjSG9",
    "outputId": "4a5406a8-1693-4b01-bb85-ba3b9da0aa82"
   },
   "outputs": [
    {
     "name": "stdout",
     "output_type": "stream",
     "text": [
      "Match Unsuccessfull\n"
     ]
    }
   ],
   "source": [
    "s = \"abcd\\nefgh\\nijkl\\nmnop\\n\"\n",
    "\n",
    "m = re.search(\"cd.ef\", s)\n",
    "if m:\n",
    "    print(\"Match Succcessfull\")\n",
    "else:\n",
    "    print(\"Match Unsuccessfull\")"
   ]
  },
  {
   "cell_type": "markdown",
   "metadata": {
    "id": "355Guh8LjSHA"
   },
   "source": [
    "The searching pattern `cd.ef` means there can cd and ef and anything between then `.` means anything"
   ]
  },
  {
   "cell_type": "code",
   "execution_count": null,
   "metadata": {
    "colab": {
     "base_uri": "https://localhost:8080/"
    },
    "id": "iYqd3nWijSHB",
    "outputId": "59c0d52e-96b4-4f70-c542-2af449a26908"
   },
   "outputs": [
    {
     "name": "stdout",
     "output_type": "stream",
     "text": [
      "Match Succcessfull\n"
     ]
    }
   ],
   "source": [
    "s = \"abcd\\nefgh\\nijkl\\nmnop\\n\"\n",
    "\n",
    "m = re.search(\"cd.ef\", s, re.DOTALL)#re.S can also be used\n",
    "if m:\n",
    "    print(\"Match Succcessfull\")\n",
    "else:\n",
    "    print(\"Match Unsuccessfull\")"
   ]
  },
  {
   "cell_type": "markdown",
   "metadata": {
    "id": "Ot7CiWfTjSHE"
   },
   "source": [
    "Make the `.` special character match any character at all, including a newline; without this flag, `.` will match anything except a newline. Corresponds to the inline flag (?s)."
   ]
  },
  {
   "cell_type": "markdown",
   "metadata": {
    "id": "QKW8yIRljSHE"
   },
   "source": [
    "### 5. re.M or re.MULTILINE"
   ]
  },
  {
   "cell_type": "code",
   "execution_count": 19,
   "metadata": {
    "colab": {
     "base_uri": "https://localhost:8080/",
     "height": 163
    },
    "id": "FhXlFKPQjSHF",
    "outputId": "0f352049-e719-432f-8ea1-ff06a9153f07"
   },
   "outputs": [
    {
     "ename": "FileNotFoundError",
     "evalue": "ignored",
     "output_type": "error",
     "traceback": [
      "\u001b[0;31m---------------------------------------------------------------------------\u001b[0m",
      "\u001b[0;31mFileNotFoundError\u001b[0m                         Traceback (most recent call last)",
      "\u001b[0;32m<ipython-input-19-deb251e43a1f>\u001b[0m in \u001b[0;36m<module>\u001b[0;34m()\u001b[0m\n\u001b[0;32m----> 1\u001b[0;31m \u001b[0mwords\u001b[0m \u001b[0;34m=\u001b[0m \u001b[0mopen\u001b[0m\u001b[0;34m(\u001b[0m\u001b[0;34m'words'\u001b[0m\u001b[0;34m)\u001b[0m\u001b[0;34m.\u001b[0m\u001b[0mread\u001b[0m\u001b[0;34m(\u001b[0m\u001b[0;34m)\u001b[0m\u001b[0;34m\u001b[0m\u001b[0;34m\u001b[0m\u001b[0m\n\u001b[0m",
      "\u001b[0;31mFileNotFoundError\u001b[0m: [Errno 2] No such file or directory: 'words'"
     ]
    }
   ],
   "source": [
    "words = open('words').read()"
   ]
  },
  {
   "cell_type": "code",
   "execution_count": null,
   "metadata": {
    "id": "3GztciBnjSHI",
    "outputId": "939bf452-d112-4f22-e61b-09c7efa2c219"
   },
   "outputs": [
    {
     "name": "stdout",
     "output_type": "stream",
     "text": [
      "anthropocentrically\n",
      "anthropomorphically\n",
      "antiferromagnetisms\n",
      "antivivisectionists\n",
      "antiferromagnetically\n",
      "anthropocentricities\n",
      "astrophotographers\n",
      "anthropocentricity\n",
      "antiferromagnetism\n",
      "antivivisectionist\n",
      "astrophotographies\n",
      "anthropologically\n",
      "astrophotographer\n",
      "accountablenesses\n",
      "acquisitivenesses\n",
      "acrimoniousnesses\n",
      "adventurousnesses\n",
      "allegoricalnesses\n",
      "alternativenesses\n",
      "amphitheatrically\n",
      "anticlimactically\n",
      "antiferromagnetic\n",
      "appropriatenesses\n",
      "ariboflavinosises\n",
      "atrabiliousnesses\n",
      "\n"
     ]
    }
   ],
   "source": [
    "print(words)"
   ]
  },
  {
   "cell_type": "code",
   "execution_count": null,
   "metadata": {
    "id": "ykRVW3YhjSHN",
    "outputId": "5ec67884-af29-4a76-851e-a9998ab08890"
   },
   "outputs": [
    {
     "data": {
      "text/plain": [
       "[]"
      ]
     },
     "execution_count": 9,
     "metadata": {
      "tags": []
     },
     "output_type": "execute_result"
    }
   ],
   "source": [
    "re.findall(\"^a\\w+s$\", words)"
   ]
  },
  {
   "cell_type": "markdown",
   "metadata": {
    "id": "iZT982HFjSHR"
   },
   "source": [
    "To find words starts with `a` and ends with `c`"
   ]
  },
  {
   "cell_type": "code",
   "execution_count": null,
   "metadata": {
    "id": "3kxotsXsjSHS",
    "outputId": "563497e8-269f-4a38-f561-a680a82141d5"
   },
   "outputs": [
    {
     "data": {
      "text/plain": [
       "['antiferromagnetisms',\n",
       " 'antivivisectionists',\n",
       " 'anthropocentricities',\n",
       " 'astrophotographers',\n",
       " 'astrophotographies',\n",
       " 'accountablenesses',\n",
       " 'acquisitivenesses',\n",
       " 'acrimoniousnesses',\n",
       " 'adventurousnesses',\n",
       " 'allegoricalnesses',\n",
       " 'alternativenesses',\n",
       " 'appropriatenesses',\n",
       " 'ariboflavinosises',\n",
       " 'atrabiliousnesses']"
      ]
     },
     "execution_count": 10,
     "metadata": {
      "tags": []
     },
     "output_type": "execute_result"
    }
   ],
   "source": [
    "re.findall(\"^a\\w+s$\", words, re.MULTILINE)"
   ]
  },
  {
   "cell_type": "markdown",
   "metadata": {
    "id": "9E7OfO2BjSHU"
   },
   "source": [
    "When specified, the pattern character `^` matches at the beginning of the string and at the beginning of each line (immediately following each newline); and the pattern character `$` matches at the end of the string and at the end of each line (immediately preceding each newline). By default, `^` matches only at the beginning of the string, and `$` only at the end of the string and immediately before the newline (if any) at the end of the string. Corresponds to the inline flag (?m)."
   ]
  },
  {
   "cell_type": "markdown",
   "metadata": {
    "id": "BnO5VbxPjSHV"
   },
   "source": [
    "### 6. re.X or re.VERBOSE"
   ]
  },
  {
   "cell_type": "code",
   "execution_count": 20,
   "metadata": {
    "colab": {
     "base_uri": "https://localhost:8080/",
     "height": 197
    },
    "id": "IYwoYHHcjSHV",
    "outputId": "cf42e8fe-cda0-4bb3-eeb9-aad79167d0e0"
   },
   "outputs": [
    {
     "ename": "NameError",
     "evalue": "ignored",
     "output_type": "error",
     "traceback": [
      "\u001b[0;31m---------------------------------------------------------------------------\u001b[0m",
      "\u001b[0;31mNameError\u001b[0m                                 Traceback (most recent call last)",
      "\u001b[0;32m<ipython-input-20-3a5a75263a8a>\u001b[0m in \u001b[0;36m<module>\u001b[0;34m()\u001b[0m\n\u001b[1;32m      1\u001b[0m re.findall(\"^a\\w+s$\", \n\u001b[0;32m----> 2\u001b[0;31m            \u001b[0mwords\u001b[0m\u001b[0;34m,\u001b[0m\u001b[0;34m\u001b[0m\u001b[0;34m\u001b[0m\u001b[0m\n\u001b[0m\u001b[1;32m      3\u001b[0m            re.MULTILINE)\n",
      "\u001b[0;31mNameError\u001b[0m: name 'words' is not defined"
     ]
    }
   ],
   "source": [
    "re.findall(\"^a\\w+s$\", \n",
    "           words, \n",
    "           re.MULTILINE)"
   ]
  },
  {
   "cell_type": "code",
   "execution_count": 4,
   "metadata": {
    "id": "flzTiUFKjSHZ",
    "outputId": "ca405455-0c1d-44e5-8750-70187fdac83f"
   },
   "outputs": [
    {
     "ename": "NameError",
     "evalue": "name 'words' is not defined",
     "output_type": "error",
     "traceback": [
      "\u001b[0;31m---------------------------------------------------------------------------\u001b[0m",
      "\u001b[0;31mNameError\u001b[0m                                 Traceback (most recent call last)",
      "\u001b[0;32m<ipython-input-4-a08fdd1bcaf4>\u001b[0m in \u001b[0;36m<module>\u001b[0;34m\u001b[0m\n\u001b[1;32m      3\u001b[0m \u001b[0;31m\\\u001b[0m\u001b[0mw\u001b[0m\u001b[0;34m+\u001b[0m \u001b[0;31m#find some letters, numbers or undersores in the middle\u001b[0m\u001b[0;34m\u001b[0m\u001b[0;34m\u001b[0m\u001b[0m\n\u001b[1;32m      4\u001b[0m \u001b[0ms\u001b[0m\u001b[0;31m$\u001b[0m  \u001b[0;31m#string must end with s\u001b[0m\u001b[0;34m\u001b[0m\u001b[0;34m\u001b[0m\u001b[0m\n\u001b[0;32m----> 5\u001b[0;31m ''', words,re.MULTILINE )\n\u001b[0m",
      "\u001b[0;31mNameError\u001b[0m: name 'words' is not defined"
     ]
    }
   ],
   "source": [
    "re.findall('''\n",
    "^a  #string must start with a\n",
    "\\w+ #find some letters, numbers or undersores in the middle\n",
    "s$  #string must end with s\n",
    "''', words,re.MULTILINE )"
   ]
  },
  {
   "cell_type": "markdown",
   "metadata": {
    "id": "EFaU7-PvjSHc"
   },
   "source": [
    "we are able to break with commas and explain each argument, but what to do for each character in regexp....."
   ]
  },
  {
   "cell_type": "code",
   "execution_count": null,
   "metadata": {
    "colab": {
     "base_uri": "https://localhost:8080/",
     "height": 214
    },
    "id": "o1rBPnXDjSHc",
    "outputId": "3c6b54b7-d9ff-4283-8354-07b752e79470"
   },
   "outputs": [
    {
     "ename": "NameError",
     "evalue": "ignored",
     "output_type": "error",
     "traceback": [
      "\u001b[0;31m---------------------------------------------------------------------------\u001b[0m",
      "\u001b[0;31mNameError\u001b[0m                                 Traceback (most recent call last)",
      "\u001b[0;32m<ipython-input-13-01fa5c22010b>\u001b[0m in \u001b[0;36m<module>\u001b[0;34m()\u001b[0m\n\u001b[1;32m      4\u001b[0m \u001b[0ms\u001b[0m\u001b[0;31m$\u001b[0m  \u001b[0;31m#string must end with s\u001b[0m\u001b[0;34m\u001b[0m\u001b[0;34m\u001b[0m\u001b[0m\n\u001b[1;32m      5\u001b[0m ''', \n\u001b[0;32m----> 6\u001b[0;31m            \u001b[0mwords\u001b[0m\u001b[0;34m,\u001b[0m\u001b[0;34m\u001b[0m\u001b[0;34m\u001b[0m\u001b[0m\n\u001b[0m\u001b[1;32m      7\u001b[0m            re.MULTILINE | re.VERBOSE)\n",
      "\u001b[0;31mNameError\u001b[0m: name 'words' is not defined"
     ]
    }
   ],
   "source": [
    "re.findall('''\n",
    "^a  #string must start with a\n",
    "\\w+ #find some letters, numbers or undersores in the middle\n",
    "s$  #string must end with s\n",
    "''', \n",
    "           words, \n",
    "           re.MULTILINE | re.VERBOSE)"
   ]
  },
  {
   "cell_type": "markdown",
   "metadata": {
    "id": "H_CYe0zHjSHf"
   },
   "source": [
    "This flag allows you to write regular expressions that look nicer and are more readable by allowing you to visually separate logical sections of the pattern and add comments. Whitespace within the pattern is ignored, except when in a character class, or when preceded by an unescaped backslash, or within tokens like *?, (?: or (?P<...>. When a line contains a `#` that is not in a character class and is not preceded by an unescaped backslash, all characters from the leftmost such # through the end of the line are ignored."
   ]
  },
  {
   "cell_type": "markdown",
   "metadata": {
    "id": "_3WznqcqjSHg"
   },
   "source": [
    "At the same time its also possible to combine one or more flags using `|` as in `re.MULTILINE | re.VERBOSE`."
   ]
  },
  {
   "cell_type": "markdown",
   "metadata": {
    "id": "pKBG1ti5jSHg"
   },
   "source": [
    "# compile() method\n",
    "• The compile() function returns the specified source as a code object, ready to be executed.\n",
    "Syntax : compile(source, filename, mode, flag, dont_inherit, optimize)\n",
    "## Parameters:\n",
    "`-source        :   Required. The source to compile, can be a String, a Bytes object, or an AST object`<br>\n",
    "`-filename      :   Required. The name of the file that the source comes from. If the source does not come`<br>\n",
    "                  from a file, you can write whatever you like<br>\n",
    "`-mode          :   Required. Legal values:`<br>\n",
    "`-eval          :   if the source is a single expression`<br>\n",
    "`-exec          :   if the source is a block of statements`<br>\n",
    "`-single        :   if the source is a single interactive statement`<br>\n",
    "`-flags         :   Optional. How to compile the source. Default 0`<br>\n",
    "`-dont-inherit  : Optional. How to compile the source. Default False`<br>\n",
    "`-optimize      : Optional. Defines the optimization level of the compiler. Default -1`<br>\n"
   ]
  },
  {
   "cell_type": "code",
   "execution_count": null,
   "metadata": {
    "id": "o4QIo8BGjSHh",
    "outputId": "d3b566e7-9f8a-4364-e926-e2f65af1abe7"
   },
   "outputs": [
    {
     "name": "stdout",
     "output_type": "stream",
     "text": [
      "55\n"
     ]
    }
   ],
   "source": [
    "x = compile('print(55)', 'test', 'eval')\n",
    "exec(x)                   #Compile text as code, and the execute"
   ]
  },
  {
   "cell_type": "code",
   "execution_count": null,
   "metadata": {
    "colab": {
     "base_uri": "https://localhost:8080/"
    },
    "id": "BF8yE9RSjSHk",
    "outputId": "a6a1dfc9-9ddf-4e19-fc33-c2d630cdc63d"
   },
   "outputs": [
    {
     "name": "stdout",
     "output_type": "stream",
     "text": [
      "55\n",
      "88\n"
     ]
    }
   ],
   "source": [
    "x = compile('print(55)\\nprint(88)', 'test', 'exec')\n",
    "exec(x)                   #Compile more than one statement, and the execute it"
   ]
  },
  {
   "cell_type": "markdown",
   "metadata": {
    "id": "_zbAhY_ajSHm"
   },
   "source": [
    "## findall() method\n",
    "\n",
    "**The findall() function returns a list containing all matches**<br>\n",
    "Return all non-overlapping matches of pattern in string, as a list of strings. The string is scanned left-to-right, and matches are returned in the order found. If one or more groups are present in the pattern, return a list of groups; this will be a list of tuples if the pattern has more than one group. Empty matches are included in the result.\n"
   ]
  },
  {
   "cell_type": "code",
   "execution_count": null,
   "metadata": {
    "colab": {
     "base_uri": "https://localhost:8080/"
    },
    "id": "FqYVXk0FjSHm",
    "outputId": "f5262867-e40f-4927-9c3a-5d6acd1e37d9"
   },
   "outputs": [
    {
     "name": "stdout",
     "output_type": "stream",
     "text": [
      "['ai', 'ai']\n"
     ]
    }
   ],
   "source": [
    "import re\n",
    "\n",
    "txt = \"The rain in Spain\"\n",
    "x = re.findall(\"ai\", txt)\n",
    "print(x)\n"
   ]
  },
  {
   "cell_type": "code",
   "execution_count": null,
   "metadata": {
    "colab": {
     "base_uri": "https://localhost:8080/"
    },
    "id": "5UMyv5whjSHp",
    "outputId": "80064a28-28fa-4660-ebe8-03d48bfe9d16"
   },
   "outputs": [
    {
     "name": "stdout",
     "output_type": "stream",
     "text": [
      "The first white-space character is located in position: 3\n"
     ]
    }
   ],
   "source": [
    "\n",
    "txt = \"The rain in Spain\"\n",
    "x = re.search(\"\\s\", txt)\n",
    "\n",
    "print(\"The first white-space character is located in position:\", x.start())"
   ]
  },
  {
   "cell_type": "code",
   "execution_count": null,
   "metadata": {
    "id": "MN9KZ3RKjSHs"
   },
   "outputs": [],
   "source": []
  }
 ],
 "metadata": {
  "colab": {
   "collapsed_sections": [],
   "name": "Python Class Project.ipynb",
   "provenance": [],
   "toc_visible": true
  },
  "kernelspec": {
   "display_name": "Python 3",
   "language": "python",
   "name": "python3"
  },
  "language_info": {
   "codemirror_mode": {
    "name": "ipython",
    "version": 3
   },
   "file_extension": ".py",
   "mimetype": "text/x-python",
   "name": "python",
   "nbconvert_exporter": "python",
   "pygments_lexer": "ipython3",
   "version": "3.8.5"
  }
 },
 "nbformat": 4,
 "nbformat_minor": 1
}
