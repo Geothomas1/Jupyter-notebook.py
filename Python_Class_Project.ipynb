{
  "nbformat": 4,
  "nbformat_minor": 0,
  "metadata": {
    "kernelspec": {
      "display_name": "Python 3",
      "language": "python",
      "name": "python3"
    },
    "language_info": {
      "codemirror_mode": {
        "name": "ipython",
        "version": 3
      },
      "file_extension": ".py",
      "mimetype": "text/x-python",
      "name": "python",
      "nbconvert_exporter": "python",
      "pygments_lexer": "ipython3",
      "version": "3.6.9"
    },
    "colab": {
      "name": "Python Class Project.ipynb",
      "provenance": [],
      "collapsed_sections": [],
      "toc_visible": true
    }
  },
  "cells": [
    {
      "cell_type": "markdown",
      "metadata": {
        "id": "VekxxS9WjSGr"
      },
      "source": [
        "# Regular Expression Modifiers and Regular Expression Patterns\n",
        "***"
      ]
    },
    {
      "cell_type": "markdown",
      "metadata": {
        "id": "fiYemZ-DjSGs"
      },
      "source": [
        "## Introduction to Regular Expressions\n",
        "- A regular expression is a pattern describing a certain amount of text and usually find the name abbreviated to \"regex\" or \"regexp\". \n",
        "- A RegEx, or Regular Expression, is a sequence of characters that forms a search pattern.\n",
        "- Regular expressions are extremely useful in extracting information from text such as code, log files, spreadsheets, or even documents.\n",
        "- RegEx can be used to check if a string contains the specified search pattern.\n",
        "- Python has a built-in package called **re**, which can be used to work with Regular Expressions.\n"
      ]
    },
    {
      "cell_type": "markdown",
      "metadata": {
        "id": "bI7ODM5mjSGq"
      },
      "source": [
        "<img src=\"https://www.python.org/static/community_logos/python-logo-master-v3-TM.png\" title=\"Python Logo\"/>"
      ]
    },
    {
      "cell_type": "code",
      "metadata": {
        "id": "Khk1edVTjSGt"
      },
      "source": [
        "import re"
      ],
      "execution_count": null,
      "outputs": []
    },
    {
      "cell_type": "markdown",
      "metadata": {
        "id": "gNZBPL2eltTi"
      },
      "source": [
        "## Match function in RegEx\n",
        "A “match” is the piece of text, or sequence of bytes or characters that pattern was found to correspond to by the regex processing software. The match() method searches a string for a match against a regular expression, and returns the matches, as an Array object.\n",
        "\n",
        "\n",
        "In python the match is check using the following method:\n"
      ]
    },
    {
      "cell_type": "code",
      "metadata": {
        "id": "RPqOiK8Vvb_K",
        "outputId": "f0d48730-4b20-483d-d111-7f60af8cd63b",
        "colab": {
          "base_uri": "https://localhost:8080/"
        }
      },
      "source": [
        "txt = \"The rain in Spain\"\n",
        "\n",
        "#Check if \"Portugal\" is in the string:\n",
        "\n",
        "x = re.findall(\"Portugal\", txt)\n",
        "print(x)\n",
        "\n",
        "if (x):\n",
        "  print(\"Yes, there is at least one match!\")\n",
        "else:\n",
        "  print(\"No match\")"
      ],
      "execution_count": null,
      "outputs": [
        {
          "output_type": "stream",
          "text": [
            "[]\n",
            "No match\n"
          ],
          "name": "stdout"
        }
      ]
    },
    {
      "cell_type": "markdown",
      "metadata": {
        "id": "hvEUuxHLwKRE"
      },
      "source": [
        "Also it is very easy to print all the matched text. See the example below:"
      ]
    },
    {
      "cell_type": "code",
      "metadata": {
        "id": "LdHms5gkwQzS",
        "outputId": "4ce71575-80d4-4155-bb00-3b49b6d9b813",
        "colab": {
          "base_uri": "https://localhost:8080/"
        }
      },
      "source": [
        "txt = \"The rain in Spain\"\n",
        "x = re.findall(\"ai\", txt)\n",
        "for item in x:\n",
        "\tprint(item)"
      ],
      "execution_count": null,
      "outputs": [
        {
          "output_type": "stream",
          "text": [
            "ai\n",
            "ai\n"
          ],
          "name": "stdout"
        }
      ]
    },
    {
      "cell_type": "markdown",
      "metadata": {
        "id": "u7yHddkUsjJC"
      },
      "source": [
        "##Search function with RegEx\n",
        "The search() method uses an expression to search for a match, and returns the position of the match."
      ]
    },
    {
      "cell_type": "code",
      "metadata": {
        "id": "4y05wZhruFZU",
        "outputId": "0bc9d583-6e9c-4581-8c37-d711dfdb07cf",
        "colab": {
          "base_uri": "https://localhost:8080/"
        }
      },
      "source": [
        "txt = \"The rain in Spain\"\n",
        "x = re.search(\"\\s\", txt)\n",
        "\n",
        "print(\"The first white-space character is located in position:\", x.start())"
      ],
      "execution_count": null,
      "outputs": [
        {
          "output_type": "stream",
          "text": [
            "The first white-space character is located in position: 3\n"
          ],
          "name": "stdout"
        }
      ]
    },
    {
      "cell_type": "code",
      "metadata": {
        "id": "qut-LUP5uHxC"
      },
      "source": [
        "txt = \"The rain in Spain\"\n",
        "x = re.search(\"Portugal\", txt)\n",
        "print(x)"
      ],
      "execution_count": null,
      "outputs": []
    },
    {
      "cell_type": "markdown",
      "metadata": {
        "id": "UKsJ98I_uZh5"
      },
      "source": [
        "## Search and Replace with RegEx\n",
        "\n",
        "The sub() function replaces the matches with the text of your choice:"
      ]
    },
    {
      "cell_type": "code",
      "metadata": {
        "id": "vwxjHh8GulBZ"
      },
      "source": [
        "txt = \"The rain in Spain\"\n",
        "x = re.sub(\"\\s\", \"9\", txt)\n",
        "print(x)"
      ],
      "execution_count": null,
      "outputs": []
    },
    {
      "cell_type": "markdown",
      "metadata": {
        "id": "_FAwIYmVutpp"
      },
      "source": [
        "You can control the number of replacements by specifying the count parameter:"
      ]
    },
    {
      "cell_type": "code",
      "metadata": {
        "id": "CXDuelv_uusR"
      },
      "source": [
        "txt = \"The rain in Spain\"\n",
        "x = re.sub(\"\\s\", \"9\", txt, 2)\n",
        "print(x)"
      ],
      "execution_count": null,
      "outputs": []
    },
    {
      "cell_type": "markdown",
      "metadata": {
        "id": "U3vQKP6mjSGw"
      },
      "source": [
        "## Regular Expression Patterns\n",
        "## Metacharacters and Sequences\n",
        "\n",
        "`.      - Any Character Except New Line`<br>\n",
        "`\\d     - Digit (0-9)`<br>\n",
        "`\\D     - Not a Digit (0-9)`<br>\n",
        "`\\w     - Word Character (a-z, A-Z, 0-9, _)`<br>\n",
        "`\\W     - Not a Word Character`<br>\n",
        "`\\s     - Whitespace (space, tab, newline)`<br>\n",
        "`\\S     - Not Whitespace (space, tab, newline)`<br>\n",
        "\n",
        "`\\b     - Word Boundary`<br>\n",
        "`\\B     - Not a Word Boundary`<br>\n",
        "`^      - Beginning of a String`<br>\n",
        "`$      - End of a String`<br>\n",
        "\n",
        "`[]     - Matches Characters in brackets`<br>\n",
        "`[^ ]   - Matches Characters NOT in brackets`<br>\n",
        "`|      - Either Or`<br>\n",
        "`( )    - Group`<br>\n",
        "\n",
        "`re*        - Matches 0 or more occurrences of preceding expression`<br>\n",
        "`re+        - Matches 1 or more occurrence of preceding expression`<br>\n",
        "`re?        - Matches 0 or 1 occurrence of preceding expression`<br>\n",
        "`re{ n}     - Matches exactly n number of occurrences of preceding expression`<br>\n",
        "`re{ n,}    - Matches n or more occurrences of preceding expression`<br>\n",
        "`re{ n, m}  - Matches at least n and at most m occurrences of preceding expression`<br>\n",
        "`a| b       - Matches either a or b`<br>\n",
        "`re         -Groups regular expressions and remembers matched text`<br>\n",
        "`?imx        - Temporarily toggles on i, m, or x options within a regular expression`<br>\n",
        "`? − imx     - Temporarily toggles off i, m, or x options within a regular expression`<br>               \n",
        "`?:re        - Groups regular expressions without remembering matched text `<br>\n",
        "`?imx:re     - Temporarily toggles on i, m, or x options within parentheses `<br>\n",
        "`? − imx:re  - Temporarily toggles off i, m, or x options within parentheses `<br>\n",
        "`?#...       - Comment.`<br>\n",
        "`? = re      - Specifies position using a pattern. Doesn't have a range`<br>\n",
        "`? !re       - Specifies position using pattern negation. Doesn't have a range`<br>\n",
        "\n",
        "`Quantifiers:`<br>\n",
        "`*      - 0 or More`<br>\n",
        "`+      - 1 or More`<br>\n",
        "`?      - 0 or One`<br>\n",
        "`{3}    - Exact Number`<br>\n",
        "`{3,4}  - Range of Numbers (Minimum, Maximum)`<br>\n",
        "\n",
        "#### Sample RegExps ####\n",
        "\n",
        "[a-zA-Z0-9_.+-]+@[a-zA-Z0-9-]+\\.[a-zA-Z0-9-.]+"
      ]
    },
    {
      "cell_type": "markdown",
      "metadata": {
        "id": "Gj3YG1ZwjSGx"
      },
      "source": [
        "## Regular Expression Modifiers\n",
        "- Regular expression literals may include an optional modifier to control various aspects of matching. \n",
        "- The modifiers are specified as an optional flag. You can provide multiple modifiers using exclusive OR `|`\n",
        "\n",
        "\n"
      ]
    },
    {
      "cell_type": "markdown",
      "metadata": {
        "id": "WCpVPLn2jSGy"
      },
      "source": [
        "### 1. re.A or re.ASCII"
      ]
    },
    {
      "cell_type": "markdown",
      "metadata": {
        "id": "d1oZfvppjSGy"
      },
      "source": [
        "Make \\w, \\W, \\b, \\B, \\d, \\D, \\s and \\S perform ASCII-only matching instead of full Unicode matching. This is only meaningful for Unicode patterns, and is ignored for byte patterns. Corresponds to the inline flag (?a).\n",
        "\n",
        "Note that for backward compatibility, the re.U flag still exists (as well as its synonym re.UNICODE and its embedded counterpart (?u)), but these are redundant in Python 3 since matches are Unicode by default for strings (and Unicode matching isn’t allowed for bytes)."
      ]
    },
    {
      "cell_type": "markdown",
      "metadata": {
        "id": "3m2-pp8ZjSGz"
      },
      "source": [
        "### 2. re.l or re.IGNORECASE\n",
        "-"
      ]
    },
    {
      "cell_type": "code",
      "metadata": {
        "id": "v4tWiydPjSGz",
        "outputId": "b2a548fb-0c55-4e98-bdca-50654280008c"
      },
      "source": [
        "email = \"user@company.com\"\n",
        "\n",
        "m = re.search(\"User\", email)\n",
        "if m:\n",
        "    print(\"Match Succcessfull\")\n",
        "else:\n",
        "    print(\"Match Unsuccessfull\")"
      ],
      "execution_count": null,
      "outputs": [
        {
          "output_type": "stream",
          "text": [
            "Match Unsuccessfull\n"
          ],
          "name": "stdout"
        }
      ]
    },
    {
      "cell_type": "markdown",
      "metadata": {
        "id": "AB89u0bIjSG3"
      },
      "source": [
        "The above written code snippet is for matching a specified string in the variable email. But the drawback of such method is we have to give the value as same as specified in the variable. As shown in the code, `User` is not specified in `user@company.com`."
      ]
    },
    {
      "cell_type": "code",
      "metadata": {
        "id": "bi-QxQKFjSG4",
        "outputId": "efefa638-4949-4310-fd5e-892fa3de5cf5"
      },
      "source": [
        "email = \"user@company.com\"\n",
        "\n",
        "m = re.search(\"User\", email, re.IGNORECASE)#re.I can also be used\n",
        "if m:\n",
        "    print(\"Match Succcessfull\")\n",
        "else:\n",
        "    print(\"Match Unsuccessfull\")"
      ],
      "execution_count": null,
      "outputs": [
        {
          "output_type": "stream",
          "text": [
            "Match Succcessfull\n"
          ],
          "name": "stdout"
        }
      ]
    },
    {
      "cell_type": "markdown",
      "metadata": {
        "id": "W3JMB9OmjSG7"
      },
      "source": [
        "Perform `case-insensitive matching`; expressions like `[A-Z]` will also match `lowercase letters`. Full Unicode matching (such as Ü matching ü) also works unless the re.ASCII flag is used to disable non-ASCII matches. The current locale does not change the effect of this flag unless the re.LOCALE flag is also used. Corresponds to the inline flag (?i).\n",
        "\n",
        "Note that when the Unicode patterns `a-z]` or `[A-Z]` are used in combination with the IGNORECASE flag, they will match the 52 ASCII letters and 4 additional non-ASCII letters: ‘İ’ (U+0130, Latin capital letter I with dot above), ‘ı’ (U+0131, Latin small letter dotless i), ‘ſ’ (U+017F, Latin small letter long s) and ‘K’ (U+212A, Kelvin sign). If the ASCII flag is used, only letters ‘a’ to ‘z’ and ‘A’ to ‘Z’ are matched."
      ]
    },
    {
      "cell_type": "markdown",
      "metadata": {
        "id": "tzOJCbGMjSG8"
      },
      "source": [
        "### 3. re.L or re.LOCALE"
      ]
    },
    {
      "cell_type": "markdown",
      "metadata": {
        "id": "0Z8kYJFMjSG8"
      },
      "source": [
        "Make \\w, \\W, \\b, \\B and case-insensitive matching dependent on the current locale. This flag can be used only with bytes patterns. The use of this flag is discouraged as the locale mechanism is very unreliable, it only handles one “culture” at a time, and it only works with 8-bit locales. Unicode matching is already enabled by default in Python 3 for Unicode (str) patterns, and it is able to handle different locales/languages. Corresponds to the inline flag (?L)."
      ]
    },
    {
      "cell_type": "markdown",
      "metadata": {
        "id": "W9H0jizTjSG9"
      },
      "source": [
        "### 4. re.S or re.DOTALL"
      ]
    },
    {
      "cell_type": "code",
      "metadata": {
        "id": "L0Zh19HWjSG9",
        "outputId": "4a5406a8-1693-4b01-bb85-ba3b9da0aa82",
        "colab": {
          "base_uri": "https://localhost:8080/"
        }
      },
      "source": [
        "s = \"abcd\\nefgh\\nijkl\\nmnop\\n\"\n",
        "\n",
        "m = re.search(\"cd.ef\", s)\n",
        "if m:\n",
        "    print(\"Match Succcessfull\")\n",
        "else:\n",
        "    print(\"Match Unsuccessfull\")"
      ],
      "execution_count": null,
      "outputs": [
        {
          "output_type": "stream",
          "text": [
            "Match Unsuccessfull\n"
          ],
          "name": "stdout"
        }
      ]
    },
    {
      "cell_type": "markdown",
      "metadata": {
        "id": "355Guh8LjSHA"
      },
      "source": [
        "The searching pattern `cd.ef` means there can cd and ef and anything between then `.` means anything"
      ]
    },
    {
      "cell_type": "code",
      "metadata": {
        "id": "iYqd3nWijSHB",
        "outputId": "59c0d52e-96b4-4f70-c542-2af449a26908",
        "colab": {
          "base_uri": "https://localhost:8080/"
        }
      },
      "source": [
        "s = \"abcd\\nefgh\\nijkl\\nmnop\\n\"\n",
        "\n",
        "m = re.search(\"cd.ef\", s, re.DOTALL)#re.S can also be used\n",
        "if m:\n",
        "    print(\"Match Succcessfull\")\n",
        "else:\n",
        "    print(\"Match Unsuccessfull\")"
      ],
      "execution_count": null,
      "outputs": [
        {
          "output_type": "stream",
          "text": [
            "Match Succcessfull\n"
          ],
          "name": "stdout"
        }
      ]
    },
    {
      "cell_type": "markdown",
      "metadata": {
        "id": "Ot7CiWfTjSHE"
      },
      "source": [
        "Make the `.` special character match any character at all, including a newline; without this flag, `.` will match anything except a newline. Corresponds to the inline flag (?s)."
      ]
    },
    {
      "cell_type": "markdown",
      "metadata": {
        "id": "QKW8yIRljSHE"
      },
      "source": [
        "### 5. re.M or re.MULTILINE"
      ]
    },
    {
      "cell_type": "code",
      "metadata": {
        "id": "FhXlFKPQjSHF",
        "outputId": "0f352049-e719-432f-8ea1-ff06a9153f07",
        "colab": {
          "base_uri": "https://localhost:8080/",
          "height": 163
        }
      },
      "source": [
        "words = open('words').read()"
      ],
      "execution_count": null,
      "outputs": [
        {
          "output_type": "error",
          "ename": "FileNotFoundError",
          "evalue": "ignored",
          "traceback": [
            "\u001b[0;31m---------------------------------------------------------------------------\u001b[0m",
            "\u001b[0;31mFileNotFoundError\u001b[0m                         Traceback (most recent call last)",
            "\u001b[0;32m<ipython-input-19-deb251e43a1f>\u001b[0m in \u001b[0;36m<module>\u001b[0;34m()\u001b[0m\n\u001b[0;32m----> 1\u001b[0;31m \u001b[0mwords\u001b[0m \u001b[0;34m=\u001b[0m \u001b[0mopen\u001b[0m\u001b[0;34m(\u001b[0m\u001b[0;34m'words'\u001b[0m\u001b[0;34m)\u001b[0m\u001b[0;34m.\u001b[0m\u001b[0mread\u001b[0m\u001b[0;34m(\u001b[0m\u001b[0;34m)\u001b[0m\u001b[0;34m\u001b[0m\u001b[0;34m\u001b[0m\u001b[0m\n\u001b[0m",
            "\u001b[0;31mFileNotFoundError\u001b[0m: [Errno 2] No such file or directory: 'words'"
          ]
        }
      ]
    },
    {
      "cell_type": "code",
      "metadata": {
        "id": "3GztciBnjSHI",
        "outputId": "939bf452-d112-4f22-e61b-09c7efa2c219"
      },
      "source": [
        "print(words)"
      ],
      "execution_count": null,
      "outputs": [
        {
          "output_type": "stream",
          "text": [
            "anthropocentrically\n",
            "anthropomorphically\n",
            "antiferromagnetisms\n",
            "antivivisectionists\n",
            "antiferromagnetically\n",
            "anthropocentricities\n",
            "astrophotographers\n",
            "anthropocentricity\n",
            "antiferromagnetism\n",
            "antivivisectionist\n",
            "astrophotographies\n",
            "anthropologically\n",
            "astrophotographer\n",
            "accountablenesses\n",
            "acquisitivenesses\n",
            "acrimoniousnesses\n",
            "adventurousnesses\n",
            "allegoricalnesses\n",
            "alternativenesses\n",
            "amphitheatrically\n",
            "anticlimactically\n",
            "antiferromagnetic\n",
            "appropriatenesses\n",
            "ariboflavinosises\n",
            "atrabiliousnesses\n",
            "\n"
          ],
          "name": "stdout"
        }
      ]
    },
    {
      "cell_type": "code",
      "metadata": {
        "id": "ykRVW3YhjSHN",
        "outputId": "5ec67884-af29-4a76-851e-a9998ab08890"
      },
      "source": [
        "re.findall(\"^a\\w+s$\", words)"
      ],
      "execution_count": null,
      "outputs": [
        {
          "output_type": "execute_result",
          "data": {
            "text/plain": [
              "[]"
            ]
          },
          "metadata": {
            "tags": []
          },
          "execution_count": 9
        }
      ]
    },
    {
      "cell_type": "markdown",
      "metadata": {
        "id": "iZT982HFjSHR"
      },
      "source": [
        "To find words starts with `a` and ends with `c`"
      ]
    },
    {
      "cell_type": "code",
      "metadata": {
        "id": "3kxotsXsjSHS",
        "outputId": "563497e8-269f-4a38-f561-a680a82141d5"
      },
      "source": [
        "re.findall(\"^a\\w+s$\", words, re.MULTILINE)"
      ],
      "execution_count": null,
      "outputs": [
        {
          "output_type": "execute_result",
          "data": {
            "text/plain": [
              "['antiferromagnetisms',\n",
              " 'antivivisectionists',\n",
              " 'anthropocentricities',\n",
              " 'astrophotographers',\n",
              " 'astrophotographies',\n",
              " 'accountablenesses',\n",
              " 'acquisitivenesses',\n",
              " 'acrimoniousnesses',\n",
              " 'adventurousnesses',\n",
              " 'allegoricalnesses',\n",
              " 'alternativenesses',\n",
              " 'appropriatenesses',\n",
              " 'ariboflavinosises',\n",
              " 'atrabiliousnesses']"
            ]
          },
          "metadata": {
            "tags": []
          },
          "execution_count": 10
        }
      ]
    },
    {
      "cell_type": "markdown",
      "metadata": {
        "id": "9E7OfO2BjSHU"
      },
      "source": [
        "When specified, the pattern character `^` matches at the beginning of the string and at the beginning of each line (immediately following each newline); and the pattern character `$` matches at the end of the string and at the end of each line (immediately preceding each newline). By default, `^` matches only at the beginning of the string, and `$` only at the end of the string and immediately before the newline (if any) at the end of the string. Corresponds to the inline flag (?m)."
      ]
    },
    {
      "cell_type": "markdown",
      "metadata": {
        "id": "BnO5VbxPjSHV"
      },
      "source": [
        "### 6. re.X or re.VERBOSE"
      ]
    },
    {
      "cell_type": "code",
      "metadata": {
        "id": "IYwoYHHcjSHV",
        "outputId": "38205276-2fd7-42e9-ccb1-dab1a851e7e4",
        "colab": {
          "base_uri": "https://localhost:8080/",
          "height": 197
        }
      },
      "source": [
        "re.findall(\"^a\\w+s$\", \n",
        "           words, \n",
        "           re.MULTILINE)"
      ],
      "execution_count": null,
      "outputs": [
        {
          "output_type": "error",
          "ename": "NameError",
          "evalue": "ignored",
          "traceback": [
            "\u001b[0;31m---------------------------------------------------------------------------\u001b[0m",
            "\u001b[0;31mNameError\u001b[0m                                 Traceback (most recent call last)",
            "\u001b[0;32m<ipython-input-21-3a5a75263a8a>\u001b[0m in \u001b[0;36m<module>\u001b[0;34m()\u001b[0m\n\u001b[1;32m      1\u001b[0m re.findall(\"^a\\w+s$\", \n\u001b[0;32m----> 2\u001b[0;31m            \u001b[0mwords\u001b[0m\u001b[0;34m,\u001b[0m\u001b[0;34m\u001b[0m\u001b[0;34m\u001b[0m\u001b[0m\n\u001b[0m\u001b[1;32m      3\u001b[0m            re.MULTILINE)\n",
            "\u001b[0;31mNameError\u001b[0m: name 'words' is not defined"
          ]
        }
      ]
    },
    {
      "cell_type": "code",
      "metadata": {
        "id": "flzTiUFKjSHZ",
        "outputId": "ca405455-0c1d-44e5-8750-70187fdac83f"
      },
      "source": [
        "re.findall('''\n",
        "^a  #string must start with a\n",
        "\\w+ #find some letters, numbers or undersores in the middle\n",
        "s$  #string must end with s\n",
        "''', \n",
        "           words, \n",
        "           re.MULTILINE )"
      ],
      "execution_count": null,
      "outputs": [
        {
          "output_type": "execute_result",
          "data": {
            "text/plain": [
              "[]"
            ]
          },
          "metadata": {
            "tags": []
          },
          "execution_count": 12
        }
      ]
    },
    {
      "cell_type": "markdown",
      "metadata": {
        "id": "EFaU7-PvjSHc"
      },
      "source": [
        "we are able to break with commas and explain each argument, but what to do for each character in regexp....."
      ]
    },
    {
      "cell_type": "code",
      "metadata": {
        "id": "o1rBPnXDjSHc",
        "outputId": "3c6b54b7-d9ff-4283-8354-07b752e79470",
        "colab": {
          "base_uri": "https://localhost:8080/",
          "height": 214
        }
      },
      "source": [
        "re.findall('''\n",
        "^a  #string must start with a\n",
        "\\w+ #find some letters, numbers or undersores in the middle\n",
        "s$  #string must end with s\n",
        "''', \n",
        "           words, \n",
        "           re.MULTILINE | re.VERBOSE)"
      ],
      "execution_count": null,
      "outputs": [
        {
          "output_type": "error",
          "ename": "NameError",
          "evalue": "ignored",
          "traceback": [
            "\u001b[0;31m---------------------------------------------------------------------------\u001b[0m",
            "\u001b[0;31mNameError\u001b[0m                                 Traceback (most recent call last)",
            "\u001b[0;32m<ipython-input-13-01fa5c22010b>\u001b[0m in \u001b[0;36m<module>\u001b[0;34m()\u001b[0m\n\u001b[1;32m      4\u001b[0m \u001b[0ms\u001b[0m\u001b[0;31m$\u001b[0m  \u001b[0;31m#string must end with s\u001b[0m\u001b[0;34m\u001b[0m\u001b[0;34m\u001b[0m\u001b[0m\n\u001b[1;32m      5\u001b[0m ''', \n\u001b[0;32m----> 6\u001b[0;31m            \u001b[0mwords\u001b[0m\u001b[0;34m,\u001b[0m\u001b[0;34m\u001b[0m\u001b[0;34m\u001b[0m\u001b[0m\n\u001b[0m\u001b[1;32m      7\u001b[0m            re.MULTILINE | re.VERBOSE)\n",
            "\u001b[0;31mNameError\u001b[0m: name 'words' is not defined"
          ]
        }
      ]
    },
    {
      "cell_type": "markdown",
      "metadata": {
        "id": "H_CYe0zHjSHf"
      },
      "source": [
        "This flag allows you to write regular expressions that look nicer and are more readable by allowing you to visually separate logical sections of the pattern and add comments. Whitespace within the pattern is ignored, except when in a character class, or when preceded by an unescaped backslash, or within tokens like *?, (?: or (?P<...>. When a line contains a `#` that is not in a character class and is not preceded by an unescaped backslash, all characters from the leftmost such # through the end of the line are ignored."
      ]
    },
    {
      "cell_type": "markdown",
      "metadata": {
        "id": "BO_sEw1yCxNL"
      },
      "source": [
        "**character classes**\n",
        "\n",
        "\n",
        "`[Pp]ython       Match \"Python\" or \"python\"`<br>\n",
        "`rub[ye]         Match \"ruby\" or \"rube\"`<br>\n",
        "`[aeiou]         Match any one lowercase vowel`<br>\n",
        "`[0-9]           Match any digit; same as [0123456789]`<br>\n",
        "`[a-z]           Match any lowercase ASCII letter`<br>\n",
        "`[A-Z]           Match any uppercase ASCII letter`<br>\n",
        "`[a-zA-Z0-9]     Match any of the above`<br>\n",
        "`[^aeiou]        Match anything other than a lowercase  vowel`<br>\n",
        "`[^0-9]               Match anything other than a digit`<br>"
      ]
    },
    {
      "cell_type": "markdown",
      "metadata": {
        "id": "lwdHMQEgHVLj"
      },
      "source": [
        ""
      ]
    },
    {
      "cell_type": "markdown",
      "metadata": {
        "id": "dfuECF8KFnd4"
      },
      "source": [
        "**special character classes** \n",
        "\n",
        "`.        -Match any character except newline`<br>\n",
        "`\\d       -Match a digit: [0-9]`<br>\n",
        "`\\D       -Match a nondigit: [^0-9]`<br>\n",
        "`\\s       -Match a whitespace character: [ \\t\\r\\n\\f]`<br>\n",
        "`\\S       -Match nonwhitespace: [^ \\t\\r\\n\\f]`<br>\n",
        "`\\w       -Match a single word character: [A-Za-z0-9_]`<br>\n",
        "`\\W       -Match a nonword character: [^A-Za-z0-9_]`<br>\n",
        "\n"
      ]
    },
    {
      "cell_type": "markdown",
      "metadata": {
        "id": "_3WznqcqjSHg"
      },
      "source": [
        "At the same time its also possible to combine one or more flags using `|` as in `re.MULTILINE | re.VERBOSE`."
      ]
    },
    {
      "cell_type": "markdown",
      "metadata": {
        "id": "ICdrVZWhHYEu"
      },
      "source": [
        "**repetition cases**\n",
        "\t\n",
        "\n",
        "`ruby?    -Match \"rub\" or \"ruby\": the y is optional`\n",
        "\n",
        "`ruby*    -Match \"rub\" plus 0 or more ys`\n",
        "\n",
        "`ruby+    -Match \"rub\" plus 1 or more ys`\n",
        "\n",
        "`\\d{3}    -Match exactly 3 digits`\n",
        "\n",
        "`\\d{3,}   -Match 3 or more digits`\n",
        "\n",
        "`\\d{3,5}  -Match 3, 4, or 5 digits`\n",
        "\n"
      ]
    },
    {
      "cell_type": "markdown",
      "metadata": {
        "id": "pKBG1ti5jSHg"
      },
      "source": [
        "# compile() method\n",
        "• The compile() function returns the specified source as a code object, ready to be executed.\n",
        "Syntax : compile(source, filename, mode, flag, dont_inherit, optimize)\n",
        "## Parameters:\n",
        "`-source        :   Required. The source to compile, can be a String, a Bytes object, or an AST object`<br>\n",
        "`-filename      :   Required. The name of the file that the source comes from. If the source does not come`<br>\n",
        "                  from a file, you can write whatever you like<br>\n",
        "`-mode          :   Required. Legal values:`<br>\n",
        "`-eval          :   if the source is a single expression`<br>\n",
        "`-exec          :   if the source is a block of statements`<br>\n",
        "`-single        :   if the source is a single interactive statement`<br>\n",
        "`-flags         :   Optional. How to compile the source. Default 0`<br>\n",
        "`-dont-inherit  : Optional. How to compile the source. Default False`<br>\n",
        "`-optimize      : Optional. Defines the optimization level of the compiler. Default -1`<br>\n"
      ]
    },
    {
      "cell_type": "code",
      "metadata": {
        "id": "o4QIo8BGjSHh",
        "outputId": "d3b566e7-9f8a-4364-e926-e2f65af1abe7"
      },
      "source": [
        "x = compile('print(55)', 'test', 'eval')\n",
        "exec(x)                   #Compile text as code, and the execute"
      ],
      "execution_count": null,
      "outputs": [
        {
          "output_type": "stream",
          "text": [
            "55\n"
          ],
          "name": "stdout"
        }
      ]
    },
    {
      "cell_type": "code",
      "metadata": {
        "id": "BF8yE9RSjSHk",
        "outputId": "a6a1dfc9-9ddf-4e19-fc33-c2d630cdc63d",
        "colab": {
          "base_uri": "https://localhost:8080/"
        }
      },
      "source": [
        "x = compile('print(55)\\nprint(88)', 'test', 'exec')\n",
        "exec(x)                   #Compile more than one statement, and the execute it"
      ],
      "execution_count": null,
      "outputs": [
        {
          "output_type": "stream",
          "text": [
            "55\n",
            "88\n"
          ],
          "name": "stdout"
        }
      ]
    },
    {
      "cell_type": "markdown",
      "metadata": {
        "id": "_zbAhY_ajSHm"
      },
      "source": [
        "## findall() method\n",
        "\n",
        "**The findall() function returns a list containing all matches**<br>\n",
        "Return all non-overlapping matches of pattern in string, as a list of strings. The string is scanned left-to-right, and matches are returned in the order found. If one or more groups are present in the pattern, return a list of groups; this will be a list of tuples if the pattern has more than one group. Empty matches are included in the result.\n"
      ]
    },
    {
      "cell_type": "code",
      "metadata": {
        "id": "FqYVXk0FjSHm",
        "outputId": "f5262867-e40f-4927-9c3a-5d6acd1e37d9",
        "colab": {
          "base_uri": "https://localhost:8080/"
        }
      },
      "source": [
        "import re\n",
        "\n",
        "txt = \"The rain in Spain\"\n",
        "x = re.findall(\"ai\", txt)\n",
        "print(x)\n"
      ],
      "execution_count": null,
      "outputs": [
        {
          "output_type": "stream",
          "text": [
            "['ai', 'ai']\n"
          ],
          "name": "stdout"
        }
      ]
    },
    {
      "cell_type": "code",
      "metadata": {
        "id": "5UMyv5whjSHp",
        "outputId": "80064a28-28fa-4660-ebe8-03d48bfe9d16",
        "colab": {
          "base_uri": "https://localhost:8080/"
        }
      },
      "source": [
        "\n",
        "txt = \"The rain in Spain\"\n",
        "x = re.search(\"\\s\", txt)\n",
        "\n",
        "print(\"The first white-space character is located in position:\", x.start())"
      ],
      "execution_count": null,
      "outputs": [
        {
          "output_type": "stream",
          "text": [
            "The first white-space character is located in position: 3\n"
          ],
          "name": "stdout"
        }
      ]
    },
    {
      "cell_type": "code",
      "metadata": {
        "id": "MN9KZ3RKjSHs"
      },
      "source": [
        ""
      ],
      "execution_count": null,
      "outputs": []
    }
  ]
}