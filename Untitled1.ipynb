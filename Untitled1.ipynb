{
 "cells": [
  {
   "cell_type": "code",
   "execution_count": 9,
   "metadata": {},
   "outputs": [
    {
     "name": "stdout",
     "output_type": "stream",
     "text": [
      "Enter Length and Breadth of Rectangle\n",
      "2\n",
      "2\n",
      "Enter height and breadth of triangle\n",
      "2\n",
      "2\n",
      "Enter side of square\n",
      "2\n",
      "Area of Rectanle::: 4\n",
      "Area of Trianlge::: 2.0\n",
      "Area of Square: 4\n"
     ]
    }
   ],
   "source": [
    "# 1) Write lambda functions to find area of square, rectangle and triangle\n",
    "\n",
    "triArea=lambda a,b:0.5*a*b\n",
    "recArea=lambda a,b:a*b\n",
    "squareArea=lambda a:a*a\n",
    "print(\"Enter Length and Breadth of Rectangle\")\n",
    "l=int(input())\n",
    "b=int(input())\n",
    "print(\"Enter height and breadth of triangle\")\n",
    "h=int(input())\n",
    "b1=int(input())\n",
    "print(\"Enter side of square\")\n",
    "s=int(input())\n",
    "print(\"Area of Rectanle:::\",recArea(l,b))\n",
    "print(\"Area of Trianlge:::\",triArea(h,b1))\n",
    "print(\"Area of Square:\",squareArea(s))"
   ]
  },
  {
   "cell_type": "code",
   "execution_count": 4,
   "metadata": {},
   "outputs": [
    {
     "name": "stdout",
     "output_type": "stream",
     "text": [
      "enter the StringKerala\n",
      "The frequency of String is  Kerala is= 6\n"
     ]
    }
   ],
   "source": [
    "# 2) Count the number of characters (character frequency) in a string. \n",
    "\n",
    "string=input(\"Enter the String :\")\n",
    "s=0\n",
    "for i in string:\n",
    "    s=s+1\n",
    "print(\"String is \",string,\"Frequency=\",s)"
   ]
  },
  {
   "cell_type": "code",
   "execution_count": 6,
   "metadata": {},
   "outputs": [
    {
     "name": "stdout",
     "output_type": "stream",
     "text": [
      "enter the String runing\n",
      "new String:: runingly\n"
     ]
    }
   ],
   "source": [
    "# 3) Add ‘ing’ at the end of a given string. If it already ends with ‘ing’, then add ‘ly’\n",
    "\n",
    "string=input(\"Enter the String :\")\n",
    "if string.endswith('ing'):\n",
    "    str1=string+'ly'\n",
    "else:\n",
    "    str1=string+'ing'\n",
    "print(\"New String:\",str1)\n"
   ]
  },
  {
   "cell_type": "code",
   "execution_count": 8,
   "metadata": {},
   "outputs": [
    {
     "name": "stdout",
     "output_type": "stream",
     "text": [
      "enter words:: i love my indiaone\n",
      "Longest String is:: indiaone length:: 8\n"
     ]
    }
   ],
   "source": [
    "# 4) Accept a list of words and return length of longest word.\n",
    "\n",
    "\n",
    "word=input(\"Enter the Word \").split()\n",
    "li={}\n",
    "for i in word:\n",
    "    li[i]=len(i)\n",
    "    v=list(li.values())\n",
    "    k=list(li.keys())\n",
    "print(\"Longest String is:\",k[v.index(max(v))],\"Length:\",max(v))"
   ]
  },
  {
   "cell_type": "code",
   "execution_count": null,
   "metadata": {},
   "outputs": [],
   "source": []
  }
 ],
 "metadata": {
  "kernelspec": {
   "display_name": "Python 3",
   "language": "python",
   "name": "python3"
  },
  "language_info": {
   "codemirror_mode": {
    "name": "ipython",
    "version": 3
   },
   "file_extension": ".py",
   "mimetype": "text/x-python",
   "name": "python",
   "nbconvert_exporter": "python",
   "pygments_lexer": "ipython3",
   "version": "3.8.5"
  }
 },
 "nbformat": 4,
 "nbformat_minor": 4
}
